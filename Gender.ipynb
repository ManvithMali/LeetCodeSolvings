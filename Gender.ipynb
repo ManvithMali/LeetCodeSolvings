{
  "nbformat": 4,
  "nbformat_minor": 0,
  "metadata": {
    "colab": {
      "name": "Gender.ipynb",
      "provenance": [],
      "mount_file_id": "1Dw8U1MGA4DAqsmLY1phGUhG05LmEjHG5",
      "authorship_tag": "ABX9TyMDDyzDLD329A7jsxlGpDWp",
      "include_colab_link": true
    },
    "kernelspec": {
      "name": "python3",
      "display_name": "Python 3"
    }
  },
  "cells": [
    {
      "cell_type": "markdown",
      "metadata": {
        "id": "view-in-github",
        "colab_type": "text"
      },
      "source": [
        "<a href=\"https://colab.research.google.com/github/ManvithMali/LeetCodeSolvings/blob/main/Gender.ipynb\" target=\"_parent\"><img src=\"https://colab.research.google.com/assets/colab-badge.svg\" alt=\"Open In Colab\"/></a>"
      ]
    },
    {
      "cell_type": "code",
      "metadata": {
        "colab": {
          "base_uri": "https://localhost:8080/"
        },
        "id": "p9mkMA0gUuTU",
        "outputId": "3fa21e6d-cc04-41d3-95c0-b5d56f532b1d"
      },
      "source": [
        "%ls\r\n"
      ],
      "execution_count": null,
      "outputs": [
        {
          "output_type": "stream",
          "text": [
            " anasu1.jpg          mb1.jpg    profile.jpg   sus.jpeg\n",
            " anasu.jpg           mb2.jpg    rc.jpg        \u001b[0m\u001b[01;34mtest_set\u001b[0m/\n",
            " anu.jpg             mm1.jpg    sus1.jpeg     \u001b[01;34mtraining_set\u001b[0m/\n",
            "\u001b[01;34m'Colab Notebooks'\u001b[0m/   pret.jpg   sus2.jpeg     \u001b[01;34mtraining_set1\u001b[0m/\n"
          ],
          "name": "stdout"
        }
      ]
    },
    {
      "cell_type": "code",
      "metadata": {
        "id": "hXfxwiGzU90m"
      },
      "source": [
        "import tensorflow as tf\r\n",
        "from keras.preprocessing.image import ImageDataGenerator\r\n",
        "import matplotlib.pyplot as plt\r\n",
        "import matplotlib.image as mpimg"
      ],
      "execution_count": null,
      "outputs": []
    },
    {
      "cell_type": "code",
      "metadata": {
        "colab": {
          "base_uri": "https://localhost:8080/",
          "height": 35
        },
        "id": "RMIGhjuaVLhB",
        "outputId": "32057f1d-6636-48eb-c43b-254c0a8d4db2"
      },
      "source": [
        "tf.__version__"
      ],
      "execution_count": null,
      "outputs": [
        {
          "output_type": "execute_result",
          "data": {
            "application/vnd.google.colaboratory.intrinsic+json": {
              "type": "string"
            },
            "text/plain": [
              "'2.4.1'"
            ]
          },
          "metadata": {
            "tags": []
          },
          "execution_count": 6
        }
      ]
    },
    {
      "cell_type": "code",
      "metadata": {
        "colab": {
          "base_uri": "https://localhost:8080/"
        },
        "id": "5D2eGuUFVPrA",
        "outputId": "b51a3524-efce-46b0-e37b-4c294777bd40"
      },
      "source": [
        "train_datagen = ImageDataGenerator(rescale = 1./255,\r\n",
        "                                   shear_range = 0.2,\r\n",
        "                                   zoom_range = 0.2,\r\n",
        "                                   horizontal_flip = True)\r\n",
        "training_set = train_datagen.flow_from_directory('test_set',\r\n",
        "                                                 target_size = (64, 64),\r\n",
        "                                                 batch_size = 32,\r\n",
        "                                                 class_mode = 'binary')"
      ],
      "execution_count": null,
      "outputs": [
        {
          "output_type": "stream",
          "text": [
            "Found 674 images belonging to 2 classes.\n"
          ],
          "name": "stdout"
        }
      ]
    },
    {
      "cell_type": "code",
      "metadata": {
        "colab": {
          "base_uri": "https://localhost:8080/"
        },
        "id": "DkbM475pVpUZ",
        "outputId": "3c18170f-4e24-43b5-a8b6-f0122b471579"
      },
      "source": [
        "test_datagen = ImageDataGenerator(rescale = 1./255)\r\n",
        "test_set = test_datagen.flow_from_directory('training_set1',\r\n",
        "                                            target_size = (64, 64),\r\n",
        "                                            batch_size = 32,\r\n",
        "                                            class_mode = 'binary')"
      ],
      "execution_count": null,
      "outputs": [
        {
          "output_type": "stream",
          "text": [
            "Found 23718 images belonging to 2 classes.\n"
          ],
          "name": "stdout"
        }
      ]
    },
    {
      "cell_type": "code",
      "metadata": {
        "id": "R0-uLbk4XqmO"
      },
      "source": [
        "cnn = tf.keras.models.Sequential()"
      ],
      "execution_count": null,
      "outputs": []
    },
    {
      "cell_type": "code",
      "metadata": {
        "id": "yN_lQt66XuxM"
      },
      "source": [
        "cnn.add(tf.keras.layers.Conv2D(filters=32, kernel_size=3, activation='relu', input_shape=[64, 64, 3]))"
      ],
      "execution_count": null,
      "outputs": []
    },
    {
      "cell_type": "code",
      "metadata": {
        "id": "0sTY_NMMXv3p"
      },
      "source": [
        "cnn.add(tf.keras.layers.MaxPool2D(pool_size=2, strides=2))"
      ],
      "execution_count": null,
      "outputs": []
    },
    {
      "cell_type": "code",
      "metadata": {
        "id": "Hm_pgbuyXz0v"
      },
      "source": [
        "cnn.add(tf.keras.layers.Conv2D(filters=32, kernel_size=3, activation='relu'))\r\n",
        "cnn.add(tf.keras.layers.MaxPool2D(pool_size=2, strides=2))"
      ],
      "execution_count": null,
      "outputs": []
    },
    {
      "cell_type": "code",
      "metadata": {
        "id": "k_zatCfXX4t0"
      },
      "source": [
        "cnn.add(tf.keras.layers.Flatten())"
      ],
      "execution_count": null,
      "outputs": []
    },
    {
      "cell_type": "code",
      "metadata": {
        "id": "CrX5oSUrX6L-"
      },
      "source": [
        "cnn.add(tf.keras.layers.Dense(units=128, activation='relu'))"
      ],
      "execution_count": null,
      "outputs": []
    },
    {
      "cell_type": "code",
      "metadata": {
        "id": "YkSDLsqSX8a0"
      },
      "source": [
        "cnn.add(tf.keras.layers.Dense(units=1, activation='sigmoid'))"
      ],
      "execution_count": null,
      "outputs": []
    },
    {
      "cell_type": "code",
      "metadata": {
        "id": "nPyS2qauX-yp"
      },
      "source": [
        "cnn.compile(optimizer = 'adam', loss = 'binary_crossentropy', metrics = ['accuracy'])"
      ],
      "execution_count": null,
      "outputs": []
    },
    {
      "cell_type": "code",
      "metadata": {
        "colab": {
          "base_uri": "https://localhost:8080/"
        },
        "id": "gJmEHlQtYEdw",
        "outputId": "ca856006-0920-4f85-f7a9-f5a5f544c1e7"
      },
      "source": [
        "cnn.fit(x = training_set, validation_data = test_set, epochs = 25)"
      ],
      "execution_count": null,
      "outputs": [
        {
          "output_type": "stream",
          "text": [
            "Epoch 1/25\n",
            "22/22 [==============================] - 15776s 750s/step - loss: 0.7109 - accuracy: 0.5525 - val_loss: 0.7048 - val_accuracy: 0.5495\n",
            "Epoch 2/25\n",
            "22/22 [==============================] - 101s 5s/step - loss: 0.5672 - accuracy: 0.7557 - val_loss: 0.6369 - val_accuracy: 0.6623\n",
            "Epoch 3/25\n",
            "22/22 [==============================] - 95s 5s/step - loss: 0.4825 - accuracy: 0.7826 - val_loss: 0.6042 - val_accuracy: 0.7016\n",
            "Epoch 4/25\n",
            "22/22 [==============================] - 93s 4s/step - loss: 0.4317 - accuracy: 0.7911 - val_loss: 0.5740 - val_accuracy: 0.7150\n",
            "Epoch 5/25\n",
            "22/22 [==============================] - 95s 4s/step - loss: 0.3585 - accuracy: 0.8391 - val_loss: 0.5649 - val_accuracy: 0.7288\n",
            "Epoch 6/25\n",
            "22/22 [==============================] - 96s 5s/step - loss: 0.3463 - accuracy: 0.8468 - val_loss: 0.6135 - val_accuracy: 0.6811\n",
            "Epoch 7/25\n",
            "22/22 [==============================] - 95s 5s/step - loss: 0.4592 - accuracy: 0.8153 - val_loss: 0.5860 - val_accuracy: 0.7127\n",
            "Epoch 8/25\n",
            "22/22 [==============================] - 93s 4s/step - loss: 0.3896 - accuracy: 0.8359 - val_loss: 0.5681 - val_accuracy: 0.7108\n",
            "Epoch 9/25\n",
            "22/22 [==============================] - 95s 5s/step - loss: 0.3507 - accuracy: 0.8615 - val_loss: 0.5725 - val_accuracy: 0.7328\n",
            "Epoch 10/25\n",
            "22/22 [==============================] - 91s 4s/step - loss: 0.4032 - accuracy: 0.8161 - val_loss: 0.5995 - val_accuracy: 0.7260\n",
            "Epoch 11/25\n",
            "22/22 [==============================] - 92s 4s/step - loss: 0.3016 - accuracy: 0.8802 - val_loss: 0.5253 - val_accuracy: 0.7586\n",
            "Epoch 12/25\n",
            "22/22 [==============================] - 99s 5s/step - loss: 0.3384 - accuracy: 0.8559 - val_loss: 0.5261 - val_accuracy: 0.7514\n",
            "Epoch 13/25\n",
            "22/22 [==============================] - 92s 4s/step - loss: 0.3187 - accuracy: 0.8747 - val_loss: 0.6986 - val_accuracy: 0.6869\n",
            "Epoch 14/25\n",
            "22/22 [==============================] - 92s 4s/step - loss: 0.3253 - accuracy: 0.8779 - val_loss: 0.6008 - val_accuracy: 0.7200\n",
            "Epoch 15/25\n",
            "22/22 [==============================] - 92s 4s/step - loss: 0.2898 - accuracy: 0.8874 - val_loss: 0.5625 - val_accuracy: 0.7475\n",
            "Epoch 16/25\n",
            "22/22 [==============================] - 93s 4s/step - loss: 0.3140 - accuracy: 0.8658 - val_loss: 0.6108 - val_accuracy: 0.7308\n",
            "Epoch 17/25\n",
            "22/22 [==============================] - 90s 4s/step - loss: 0.2751 - accuracy: 0.9040 - val_loss: 0.5865 - val_accuracy: 0.7401\n",
            "Epoch 18/25\n",
            "22/22 [==============================] - 88s 4s/step - loss: 0.2724 - accuracy: 0.8942 - val_loss: 0.5944 - val_accuracy: 0.7390\n",
            "Epoch 19/25\n",
            "22/22 [==============================] - 91s 4s/step - loss: 0.2392 - accuracy: 0.9003 - val_loss: 0.5662 - val_accuracy: 0.7559\n",
            "Epoch 20/25\n",
            "22/22 [==============================] - 88s 4s/step - loss: 0.2460 - accuracy: 0.8973 - val_loss: 0.5712 - val_accuracy: 0.7512\n",
            "Epoch 21/25\n",
            "22/22 [==============================] - 87s 4s/step - loss: 0.2609 - accuracy: 0.8856 - val_loss: 0.6358 - val_accuracy: 0.7284\n",
            "Epoch 22/25\n",
            "22/22 [==============================] - 88s 4s/step - loss: 0.2473 - accuracy: 0.8933 - val_loss: 0.6408 - val_accuracy: 0.7271\n",
            "Epoch 23/25\n",
            "22/22 [==============================] - 92s 4s/step - loss: 0.2257 - accuracy: 0.9118 - val_loss: 0.5176 - val_accuracy: 0.7652\n",
            "Epoch 24/25\n",
            "22/22 [==============================] - 90s 4s/step - loss: 0.2910 - accuracy: 0.8836 - val_loss: 0.5373 - val_accuracy: 0.7590\n",
            "Epoch 25/25\n",
            "22/22 [==============================] - 92s 4s/step - loss: 0.3732 - accuracy: 0.8148 - val_loss: 0.5957 - val_accuracy: 0.7452\n"
          ],
          "name": "stdout"
        },
        {
          "output_type": "execute_result",
          "data": {
            "text/plain": [
              "<tensorflow.python.keras.callbacks.History at 0x7f49728bae90>"
            ]
          },
          "metadata": {
            "tags": []
          },
          "execution_count": 18
        }
      ]
    },
    {
      "cell_type": "code",
      "metadata": {
        "colab": {
          "base_uri": "https://localhost:8080/",
          "height": 370
        },
        "id": "bCLIhe2WYK3a",
        "outputId": "ec896b7c-436e-4e3f-bcfb-bdb7999b03c6"
      },
      "source": [
        "import numpy as np\r\n",
        "from keras.preprocessing import image\r\n",
        "test_image1 = image.load_img('sus1.jpeg', target_size = (64, 64))\r\n",
        "test_image = image.img_to_array(test_image1)\r\n",
        "test_image = np.expand_dims(test_image, axis = 0)\r\n",
        "result = cnn.predict(test_image)\r\n",
        "training_set.class_indices\r\n",
        "if result[0][0] == 0:\r\n",
        "  prediction = 'male'\r\n",
        "else:\r\n",
        "  prediction = 'female'\r\n",
        "\r\n",
        "img = mpimg.imread('sus1.jpeg')\r\n",
        "imgplot = plt.imshow(test_image1)\r\n",
        "plt.show()\r\n",
        "\r\n",
        "print(prediction)"
      ],
      "execution_count": null,
      "outputs": [
        {
          "output_type": "error",
          "ename": "FileNotFoundError",
          "evalue": "ignored",
          "traceback": [
            "\u001b[0;31m---------------------------------------------------------------------------\u001b[0m",
            "\u001b[0;31mFileNotFoundError\u001b[0m                         Traceback (most recent call last)",
            "\u001b[0;32m<ipython-input-1-e7a7a9c924e3>\u001b[0m in \u001b[0;36m<module>\u001b[0;34m()\u001b[0m\n\u001b[1;32m      1\u001b[0m \u001b[0;32mimport\u001b[0m \u001b[0mnumpy\u001b[0m \u001b[0;32mas\u001b[0m \u001b[0mnp\u001b[0m\u001b[0;34m\u001b[0m\u001b[0;34m\u001b[0m\u001b[0m\n\u001b[1;32m      2\u001b[0m \u001b[0;32mfrom\u001b[0m \u001b[0mkeras\u001b[0m\u001b[0;34m.\u001b[0m\u001b[0mpreprocessing\u001b[0m \u001b[0;32mimport\u001b[0m \u001b[0mimage\u001b[0m\u001b[0;34m\u001b[0m\u001b[0;34m\u001b[0m\u001b[0m\n\u001b[0;32m----> 3\u001b[0;31m \u001b[0mtest_image1\u001b[0m \u001b[0;34m=\u001b[0m \u001b[0mimage\u001b[0m\u001b[0;34m.\u001b[0m\u001b[0mload_img\u001b[0m\u001b[0;34m(\u001b[0m\u001b[0;34m'sus1.jpeg'\u001b[0m\u001b[0;34m,\u001b[0m \u001b[0mtarget_size\u001b[0m \u001b[0;34m=\u001b[0m \u001b[0;34m(\u001b[0m\u001b[0;36m64\u001b[0m\u001b[0;34m,\u001b[0m \u001b[0;36m64\u001b[0m\u001b[0;34m)\u001b[0m\u001b[0;34m)\u001b[0m\u001b[0;34m\u001b[0m\u001b[0;34m\u001b[0m\u001b[0m\n\u001b[0m\u001b[1;32m      4\u001b[0m \u001b[0mtest_image\u001b[0m \u001b[0;34m=\u001b[0m \u001b[0mimage\u001b[0m\u001b[0;34m.\u001b[0m\u001b[0mimg_to_array\u001b[0m\u001b[0;34m(\u001b[0m\u001b[0mtest_image1\u001b[0m\u001b[0;34m)\u001b[0m\u001b[0;34m\u001b[0m\u001b[0;34m\u001b[0m\u001b[0m\n\u001b[1;32m      5\u001b[0m \u001b[0mtest_image\u001b[0m \u001b[0;34m=\u001b[0m \u001b[0mnp\u001b[0m\u001b[0;34m.\u001b[0m\u001b[0mexpand_dims\u001b[0m\u001b[0;34m(\u001b[0m\u001b[0mtest_image\u001b[0m\u001b[0;34m,\u001b[0m \u001b[0maxis\u001b[0m \u001b[0;34m=\u001b[0m \u001b[0;36m0\u001b[0m\u001b[0;34m)\u001b[0m\u001b[0;34m\u001b[0m\u001b[0;34m\u001b[0m\u001b[0m\n",
            "\u001b[0;32m/usr/local/lib/python3.7/dist-packages/tensorflow/python/keras/preprocessing/image.py\u001b[0m in \u001b[0;36mload_img\u001b[0;34m(path, grayscale, color_mode, target_size, interpolation)\u001b[0m\n\u001b[1;32m    298\u001b[0m   \"\"\"\n\u001b[1;32m    299\u001b[0m   return image.load_img(path, grayscale=grayscale, color_mode=color_mode,\n\u001b[0;32m--> 300\u001b[0;31m                         target_size=target_size, interpolation=interpolation)\n\u001b[0m\u001b[1;32m    301\u001b[0m \u001b[0;34m\u001b[0m\u001b[0m\n\u001b[1;32m    302\u001b[0m \u001b[0;34m\u001b[0m\u001b[0m\n",
            "\u001b[0;32m/usr/local/lib/python3.7/dist-packages/keras_preprocessing/image/utils.py\u001b[0m in \u001b[0;36mload_img\u001b[0;34m(path, grayscale, color_mode, target_size, interpolation)\u001b[0m\n\u001b[1;32m    111\u001b[0m         raise ImportError('Could not import PIL.Image. '\n\u001b[1;32m    112\u001b[0m                           'The use of `load_img` requires PIL.')\n\u001b[0;32m--> 113\u001b[0;31m     \u001b[0;32mwith\u001b[0m \u001b[0mopen\u001b[0m\u001b[0;34m(\u001b[0m\u001b[0mpath\u001b[0m\u001b[0;34m,\u001b[0m \u001b[0;34m'rb'\u001b[0m\u001b[0;34m)\u001b[0m \u001b[0;32mas\u001b[0m \u001b[0mf\u001b[0m\u001b[0;34m:\u001b[0m\u001b[0;34m\u001b[0m\u001b[0;34m\u001b[0m\u001b[0m\n\u001b[0m\u001b[1;32m    114\u001b[0m         \u001b[0mimg\u001b[0m \u001b[0;34m=\u001b[0m \u001b[0mpil_image\u001b[0m\u001b[0;34m.\u001b[0m\u001b[0mopen\u001b[0m\u001b[0;34m(\u001b[0m\u001b[0mio\u001b[0m\u001b[0;34m.\u001b[0m\u001b[0mBytesIO\u001b[0m\u001b[0;34m(\u001b[0m\u001b[0mf\u001b[0m\u001b[0;34m.\u001b[0m\u001b[0mread\u001b[0m\u001b[0;34m(\u001b[0m\u001b[0;34m)\u001b[0m\u001b[0;34m)\u001b[0m\u001b[0;34m)\u001b[0m\u001b[0;34m\u001b[0m\u001b[0;34m\u001b[0m\u001b[0m\n\u001b[1;32m    115\u001b[0m         \u001b[0;32mif\u001b[0m \u001b[0mcolor_mode\u001b[0m \u001b[0;34m==\u001b[0m \u001b[0;34m'grayscale'\u001b[0m\u001b[0;34m:\u001b[0m\u001b[0;34m\u001b[0m\u001b[0;34m\u001b[0m\u001b[0m\n",
            "\u001b[0;31mFileNotFoundError\u001b[0m: [Errno 2] No such file or directory: 'sus1.jpeg'"
          ]
        }
      ]
    }
  ]
}